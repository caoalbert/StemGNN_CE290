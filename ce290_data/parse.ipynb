{
 "cells": [
  {
   "cell_type": "code",
   "execution_count": 1,
   "metadata": {},
   "outputs": [],
   "source": [
    "from data_cleaning import data_processing\n",
    "from adjacancy import adjacancy\n",
    "import pandas as pd"
   ]
  },
  {
   "cell_type": "code",
   "execution_count": 4,
   "metadata": {},
   "outputs": [
    {
     "name": "stderr",
     "output_type": "stream",
     "text": [
      "/Users/Albert/StemGNN_CE290/ce290_data/data_cleaning.py:20: DtypeWarning: Columns (4,5,6,7,8,9,10,11,12,13,14,15,16) have mixed types. Specify dtype option on import or set low_memory=False.\n",
      "  df = pd.read_csv(f'./{self.path}').reset_index(drop=True).iloc[5:-5, [0,1,2,3,12,15,16]]\n"
     ]
    }
   ],
   "source": [
    "file_name = 'apr2020'\n",
    "\n",
    "processor = data_processing(f'data/{file_name}.csv')\n",
    "processor.data_cleaning()\n",
    "x_matrix = processor.parse_x_matrix()\n",
    "x_matrix\n",
    "x_matrix.to_csv(f'x_matrix/{file_name}.csv', index=False)"
   ]
  },
  {
   "cell_type": "code",
   "execution_count": null,
   "metadata": {},
   "outputs": [],
   "source": []
  }
 ],
 "metadata": {
  "kernelspec": {
   "display_name": "base",
   "language": "python",
   "name": "python3"
  },
  "language_info": {
   "codemirror_mode": {
    "name": "ipython",
    "version": 3
   },
   "file_extension": ".py",
   "mimetype": "text/x-python",
   "name": "python",
   "nbconvert_exporter": "python",
   "pygments_lexer": "ipython3",
   "version": "3.9.7"
  },
  "orig_nbformat": 4
 },
 "nbformat": 4,
 "nbformat_minor": 2
}
