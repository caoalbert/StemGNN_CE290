{
 "cells": [
  {
   "cell_type": "code",
   "execution_count": 7,
   "metadata": {},
   "outputs": [],
   "source": [
    "from data_cleaning import data_processing\n",
    "from adjacancy import adjacancy\n",
    "\n",
    "import pandas as pd"
   ]
  },
  {
   "cell_type": "code",
   "execution_count": 6,
   "metadata": {},
   "outputs": [],
   "source": []
  },
  {
   "cell_type": "code",
   "execution_count": 8,
   "metadata": {},
   "outputs": [],
   "source": [
    "file_name = 'mar2020'\n",
    "\n",
    "processor = data_processing(f'data/{file_name}.csv')\n",
    "processor.data_cleaning()\n",
    "x_matrix = processor.parse_x_matrix()\n",
    "x_matrix\n",
    "x_matrix.to_csv(f'x_matrix/{file_name}.csv', index=False)"
   ]
  },
  {
   "cell_type": "code",
   "execution_count": 7,
   "metadata": {},
   "outputs": [],
   "source": [
    "def adjacancy(filename):\n",
    "    # 'ce290_data/data/mar2020.csv'\n",
    "    df = data_processing(filename)\n",
    "    df.data_cleaning()\n",
    "    df = df.df\n",
    "\n",
    "    df2 = df.groupby(['departure','arrival']).sum('number_of_flights').reset_index()\n",
    "    df2.columns = ['departure', 'arrival', 'weight']\n",
    "\n",
    "    g = nx.from_pandas_edgelist(df2, source='departure', target='arrival', edge_attr='weight' )\n",
    "    a = nx.adjacency_matrix(g)\n",
    "    # print(a.todense())\n",
    "    return a.todense()"
   ]
  },
  {
   "cell_type": "code",
   "execution_count": 8,
   "metadata": {},
   "outputs": [],
   "source": [
    "import networkx as nx"
   ]
  },
  {
   "cell_type": "code",
   "execution_count": 11,
   "metadata": {},
   "outputs": [
    {
     "name": "stderr",
     "output_type": "stream",
     "text": [
      "/Users/Albert/StemGNN_CE290/ce290_data/data_cleaning.py:20: DtypeWarning: Columns (3,4,5,6,7,8,9,10,11,12,13,14,15,16) have mixed types. Specify dtype option on import or set low_memory=False.\n",
      "  df = pd.read_csv(f'./{self.path}').reset_index(drop=True).iloc[5:-5, [0,1,2,3,12,15,16]]\n",
      "/var/folders/zt/r0cp56bx0xn7645kcytd7mzr0000gn/T/ipykernel_9662/439583127.py:11: FutureWarning: adjacency_matrix will return a scipy.sparse array instead of a matrix in Networkx 3.0.\n",
      "  a = nx.adjacency_matrix(g)\n"
     ]
    }
   ],
   "source": [
    "A = adjacancy('data/mar2020.csv')"
   ]
  },
  {
   "cell_type": "code",
   "execution_count": 24,
   "metadata": {},
   "outputs": [
    {
     "name": "stdout",
     "output_type": "stream",
     "text": [
      "None\n"
     ]
    }
   ],
   "source": [
    "G = nx.Graph(A)\n",
    "eiv = nx.laplacian_spectrum(G)\n"
   ]
  },
  {
   "cell_type": "code",
   "execution_count": 27,
   "metadata": {},
   "outputs": [
    {
     "data": {
      "text/plain": [
       "array([-8.04804279e-12,  5.06436733e+00,  3.13566401e+01,  1.90032971e+02,\n",
       "        2.42485710e+02,  2.71616588e+02,  3.60028885e+02,  4.84288191e+02,\n",
       "        4.98557171e+02,  5.47277834e+02,  7.16839516e+02,  1.02592806e+03,\n",
       "        1.08397612e+03,  1.13404694e+03,  1.19815208e+03,  1.23055034e+03,\n",
       "        1.31093747e+03,  1.42248155e+03,  1.43840627e+03,  1.49864788e+03,\n",
       "        1.68636543e+03,  1.71855337e+03,  1.81197387e+03,  1.82296882e+03,\n",
       "        1.88500123e+03,  2.01307103e+03,  2.18064000e+03,  2.29458858e+03,\n",
       "        2.42036345e+03,  2.63896143e+03,  2.77479172e+03,  2.80746672e+03,\n",
       "        2.88997658e+03,  3.07471645e+03,  3.12634285e+03,  3.20701052e+03,\n",
       "        3.36954768e+03,  3.47647950e+03,  3.55226551e+03,  3.71105020e+03,\n",
       "        3.75764328e+03,  3.80734680e+03,  4.06807636e+03,  4.17807219e+03,\n",
       "        4.27160335e+03,  4.37056083e+03,  4.55535343e+03,  4.65060958e+03,\n",
       "        4.77527956e+03,  4.99652025e+03,  5.21294064e+03,  5.86288353e+03,\n",
       "        6.28966489e+03,  6.40448133e+03,  6.69428169e+03,  6.73835774e+03,\n",
       "        6.84581929e+03,  6.88491931e+03,  6.97949009e+03,  7.53575069e+03,\n",
       "        7.84411738e+03,  7.95217756e+03,  8.21835567e+03,  8.32150275e+03,\n",
       "        8.45707154e+03,  8.93460751e+03,  9.18824892e+03,  1.01684072e+04,\n",
       "        1.05580177e+04,  1.07893456e+04,  1.12616002e+04,  1.17391315e+04,\n",
       "        1.20744309e+04,  1.37343750e+04,  1.58415245e+04,  1.68017843e+04,\n",
       "        1.75248376e+04])"
      ]
     },
     "execution_count": 27,
     "metadata": {},
     "output_type": "execute_result"
    }
   ],
   "source": [
    "import numpy as np\n",
    "np.sort(eiv)"
   ]
  },
  {
   "cell_type": "code",
   "execution_count": null,
   "metadata": {},
   "outputs": [],
   "source": []
  }
 ],
 "metadata": {
  "kernelspec": {
   "display_name": "base",
   "language": "python",
   "name": "python3"
  },
  "language_info": {
   "codemirror_mode": {
    "name": "ipython",
    "version": 3
   },
   "file_extension": ".py",
   "mimetype": "text/x-python",
   "name": "python",
   "nbconvert_exporter": "python",
   "pygments_lexer": "ipython3",
   "version": "3.9.7"
  },
  "orig_nbformat": 4
 },
 "nbformat": 4,
 "nbformat_minor": 2
}
